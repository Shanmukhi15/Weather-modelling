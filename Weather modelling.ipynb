{
  "nbformat": 4,
  "nbformat_minor": 0,
  "metadata": {
    "colab": {
      "provenance": [],
      "authorship_tag": "ABX9TyMxN+T4lEjS4Sxe0mW9brAH",
      "include_colab_link": true
    },
    "kernelspec": {
      "name": "python3",
      "display_name": "Python 3"
    },
    "language_info": {
      "name": "python"
    }
  },
  "cells": [
    {
      "cell_type": "markdown",
      "metadata": {
        "id": "view-in-github",
        "colab_type": "text"
      },
      "source": [
        "<a href=\"https://colab.research.google.com/github/Shanmukhi15/Weather-modelling/blob/main/Weather%20modelling.ipynb\" target=\"_parent\"><img src=\"https://colab.research.google.com/assets/colab-badge.svg\" alt=\"Open In Colab\"/></a>"
      ]
    },
    {
      "cell_type": "code",
      "execution_count": null,
      "metadata": {
        "colab": {
          "base_uri": "https://localhost:8080/"
        },
        "id": "jTOqlmA10EWd",
        "outputId": "313aa186-7a85-4591-da86-c45e9254c199"
      },
      "outputs": [
        {
          "output_type": "stream",
          "name": "stdout",
          "text": [
            "Relative Humidity (hardcoded): 80.88%\n"
          ]
        }
      ],
      "source": [
        "# Hardcoding Variables\n",
        "def calculate_relative_humidity(temp, dew_point):\n",
        "    # Quadratic coefficients\n",
        "    a, b, c = 0.01, 0.1, 5  # Example coefficients for e(T)\n",
        "    p, q, r = 0.01, 0.1, 5  # Example coefficients for e(Td)\n",
        "\n",
        "    # Calculate saturation vapor pressures\n",
        "    e_t = a * temp**2 + b * temp + c\n",
        "    e_td = p * dew_point**2 + q * dew_point + r\n",
        "\n",
        "    # Calculate RH\n",
        "    rh = 100 * (e_td / e_t)\n",
        "    return rh\n",
        "\n",
        "# Hardcoded values\n",
        "temperature = 30  # in Celsius\n",
        "dew_point = 25    # in Celsius\n",
        "\n",
        "# Calculate and display RH\n",
        "rh = calculate_relative_humidity(temperature, dew_point)\n",
        "print(f\"Relative Humidity (hardcoded): {rh:.2f}%\")\n"
      ]
    },
    {
      "cell_type": "code",
      "source": [
        "# Keyboard Input\n",
        "def calculate_relative_humidity(temp, dew_point):\n",
        "    a, b, c = 0.01, 0.1, 5\n",
        "    p, q, r = 0.01, 0.1, 5\n",
        "    e_t = a * temp**2 + b * temp + c\n",
        "    e_td = p * dew_point**2 + q * dew_point + r\n",
        "    rh = 100 * (e_td / e_t)\n",
        "    return rh\n",
        "\n",
        "# User input\n",
        "temperature = float(input(\"Enter temperature (Celsius): \"))\n",
        "dew_point = float(input(\"Enter dew point (Celsius): \"))\n",
        "\n",
        "# Calculate and display RH\n",
        "rh = calculate_relative_humidity(temperature, dew_point)\n",
        "print(f\"Relative Humidity (from keyboard input): {rh:.2f}%\")\n"
      ],
      "metadata": {
        "colab": {
          "base_uri": "https://localhost:8080/"
        },
        "id": "0vSNjMRn0gIH",
        "outputId": "9056c6a2-0e07-4ced-ad5f-64b26207643e"
      },
      "execution_count": null,
      "outputs": [
        {
          "output_type": "stream",
          "name": "stdout",
          "text": [
            "Enter temperature (Celsius): 12\n",
            "Enter dew point (Celsius): 23\n",
            "Relative Humidity (from keyboard input): 164.79%\n"
          ]
        }
      ]
    },
    {
      "cell_type": "code",
      "source": [
        "# Stage 3: Reading from a File\n",
        "def calculate_relative_humidity(temp, dew_point):\n",
        "    a, b, c = 0.01, 0.1, 5\n",
        "    p, q, r = 0.01, 0.1, 5\n",
        "    e_t = a * temp**2 + b * temp + c\n",
        "    e_td = p * dew_point**2 + q * dew_point + r\n",
        "    rh = 100 * (e_td / e_t)\n",
        "    return rh\n",
        "\n",
        "# Read inputs from file\n",
        "with open(\"input.txt\", \"r\") as file:\n",
        "    lines = file.readlines()\n",
        "\n",
        "# Process each line\n",
        "for line in lines:\n",
        "    temp, dew_point = map(float, line.split())\n",
        "    rh = calculate_relative_humidity(temp, dew_point)\n",
        "    print(f\"Temperature: {temp}°C, Dew Point: {dew_point}°C, RH: {rh:.2f}%\")\n",
        "\n"
      ],
      "metadata": {
        "colab": {
          "base_uri": "https://localhost:8080/"
        },
        "id": "dkMBJJmG1t-i",
        "outputId": "c37e4fb9-8ab0-4b8f-ec12-f1cc0c9b7ce9"
      },
      "execution_count": null,
      "outputs": [
        {
          "output_type": "stream",
          "name": "stdout",
          "text": [
            "Temperature: 30.0°C, Dew Point: 25.0°C, RH: 80.88%\n",
            "Temperature: 28.0°C, Dew Point: 22.0°C, RH: 76.98%\n",
            "Temperature: 25.0°C, Dew Point: 20.0°C, RH: 80.00%\n"
          ]
        }
      ]
    },
    {
      "cell_type": "code",
      "source": [
        "# Processing a Single Input\n",
        "def calculate_relative_humidity(temp, dew_point):\n",
        "    a, b, c = 0.01, 0.1, 5\n",
        "    p, q, r = 0.01, 0.1, 5\n",
        "    e_t = a * temp**2 + b * temp + c\n",
        "    e_td = p * dew_point**2 + q * dew_point + r\n",
        "    return 100 * (e_td / e_t)\n",
        "\n",
        "try:\n",
        "    temperature = float(input(\"Enter temperature (°C): \"))\n",
        "    dew_point = float(input(\"Enter dew point (°C): \"))\n",
        "    rh = calculate_relative_humidity(temperature, dew_point)\n",
        "    print(f\"Temperature: {temperature}°C, Dew Point: {dew_point}°C, RH: {rh:.2f}%\")\n",
        "except ValueError:\n",
        "    print(\"Invalid input. Please enter numeric values.\")\n"
      ],
      "metadata": {
        "colab": {
          "base_uri": "https://localhost:8080/"
        },
        "id": "2JYeIMuh23__",
        "outputId": "e4d19f19-35cb-4fe1-ff93-cd7e6ab45838"
      },
      "execution_count": null,
      "outputs": [
        {
          "output_type": "stream",
          "name": "stdout",
          "text": [
            "Enter temperature (°C): 18\n",
            "Enter dew point (°C): 2\n",
            "Temperature: 18.0°C, Dew Point: 2.0°C, RH: 52.19%\n"
          ]
        }
      ]
    },
    {
      "cell_type": "code",
      "source": [
        "# Processing multiple sets of inputs:\n",
        "def calculate_relative_humidity(temp, dew_point):\n",
        "    a, b, c = 0.01, 0.1, 5\n",
        "    p, q, r = 0.01, 0.1, 5\n",
        "    e_t = a * temp**2 + b * temp + c\n",
        "    e_td = p * dew_point**2 + q * dew_point + r\n",
        "    return 100 * (e_td / e_t)\n",
        "\n",
        "def process_multiple_inputs():\n",
        "    choice = input(\"Choose input method (1: Manual, 2: File): \").strip()\n",
        "\n",
        "    if choice == \"1\":\n",
        "        results = []\n",
        "        print(\"Enter multiple sets of data (type 'done' to finish):\")\n",
        "        while True:\n",
        "            user_input = input(\"Enter temperature and dew point (e.g., 30 25): \").strip()\n",
        "            if user_input.lower() == \"done\":\n",
        "                break\n",
        "            try:\n",
        "                temp, dew_point = map(float, user_input.split())\n",
        "                results.append((temp, dew_point, calculate_relative_humidity(temp, dew_point)))\n",
        "            except ValueError:\n",
        "                print(\"Invalid input. Enter two numbers separated by space.\")\n",
        "    elif choice == \"2\":\n",
        "        filename = input(\"Enter file name (e.g., input.txt): \").strip()\n",
        "        try:\n",
        "            with open(filename, \"r\") as file:\n",
        "                results = [\n",
        "                    (temp, dew_point, calculate_relative_humidity(temp, dew_point))\n",
        "                    for line in file\n",
        "                    if (values := line.split()) and len(values) == 2\n",
        "                    and (temp := float(values[0])) and (dew_point := float(values[1]))\n",
        "                ]\n",
        "        except FileNotFoundError:\n",
        "            print(f\"File '{filename}' not found.\")\n",
        "            return\n",
        "        except ValueError:\n",
        "            print(\"File contains invalid data.\")\n",
        "            return\n",
        "    else:\n",
        "        print(\"Invalid choice.\")\n",
        "        return\n",
        "\n",
        "    print(\"\\nResults:\")\n",
        "    for temp, dew_point, rh in results:\n",
        "        print(f\"Temperature: {temp}°C, Dew Point: {dew_point}°C, RH: {rh:.2f}%\")\n",
        "\n",
        "# Run the program\n",
        "process_multiple_inputs()\n"
      ],
      "metadata": {
        "colab": {
          "base_uri": "https://localhost:8080/"
        },
        "id": "VJuvIY0P3LSz",
        "outputId": "a4fa4b6a-ad8e-40f1-bb12-32c2bf35db8b"
      },
      "execution_count": null,
      "outputs": [
        {
          "output_type": "stream",
          "name": "stdout",
          "text": [
            "Choose input method (1: Manual, 2: File): 1\n",
            "Enter multiple sets of data (type 'done' to finish):\n",
            "Enter temperature and dew point (e.g., 30 25): 30 25\n",
            "Enter temperature and dew point (e.g., 30 25): 28 22\n",
            "Enter temperature and dew point (e.g., 30 25): done\n",
            "\n",
            "Results:\n",
            "Temperature: 30.0°C, Dew Point: 25.0°C, RH: 80.88%\n",
            "Temperature: 28.0°C, Dew Point: 22.0°C, RH: 76.98%\n"
          ]
        }
      ]
    }
  ]
}